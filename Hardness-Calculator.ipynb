{
 "cells": [
  {
   "cell_type": "code",
   "execution_count": 83,
   "metadata": {},
   "outputs": [],
   "source": [
    "import numpy as np\n",
    "import matplotlib.pyplot as plt\n",
    "import pandas as pd\n",
    "import numpy as np\n",
    "np.set_printoptions(precision=2)\n",
    "from sklearn import preprocessing\n",
    "import pylab as pl\n",
    "import scipy.optimize as opt\n",
    "%matplotlib inline"
   ]
  },
  {
   "cell_type": "markdown",
   "metadata": {},
   "source": [
    "# Load Data From CSV File"
   ]
  },
  {
   "cell_type": "code",
   "execution_count": 84,
   "metadata": {},
   "outputs": [
    {
     "data": {
      "text/html": [
       "<div>\n",
       "<style scoped>\n",
       "    .dataframe tbody tr th:only-of-type {\n",
       "        vertical-align: middle;\n",
       "    }\n",
       "\n",
       "    .dataframe tbody tr th {\n",
       "        vertical-align: top;\n",
       "    }\n",
       "\n",
       "    .dataframe thead th {\n",
       "        text-align: right;\n",
       "    }\n",
       "</style>\n",
       "<table border=\"1\" class=\"dataframe\">\n",
       "  <thead>\n",
       "    <tr style=\"text-align: right;\">\n",
       "      <th></th>\n",
       "      <th>No.</th>\n",
       "      <th>material</th>\n",
       "      <th>Formula</th>\n",
       "      <th>CrystalSystem</th>\n",
       "      <th>bulk</th>\n",
       "      <th>shear</th>\n",
       "      <th>young</th>\n",
       "      <th>poisson</th>\n",
       "      <th>Hexp</th>\n",
       "      <th>best</th>\n",
       "      <th>y_cs</th>\n",
       "      <th>y_gap</th>\n",
       "      <th>y_den</th>\n",
       "      <th>y_csbg</th>\n",
       "      <th>y_csden</th>\n",
       "      <th>y_bgden</th>\n",
       "    </tr>\n",
       "  </thead>\n",
       "  <tbody>\n",
       "    <tr>\n",
       "      <th>0</th>\n",
       "      <td>1</td>\n",
       "      <td>mp-66</td>\n",
       "      <td>Diamond</td>\n",
       "      <td>cubic</td>\n",
       "      <td>435.3</td>\n",
       "      <td>520.5</td>\n",
       "      <td>1116.5</td>\n",
       "      <td>0.07</td>\n",
       "      <td>96.0</td>\n",
       "      <td>H5</td>\n",
       "      <td>H1a</td>\n",
       "      <td>H2</td>\n",
       "      <td>H2</td>\n",
       "      <td>H2</td>\n",
       "      <td>H5</td>\n",
       "      <td>H2</td>\n",
       "    </tr>\n",
       "    <tr>\n",
       "      <th>1</th>\n",
       "      <td>2</td>\n",
       "      <td>mp-30148</td>\n",
       "      <td>BC2N</td>\n",
       "      <td>orthorhombic</td>\n",
       "      <td>361.0</td>\n",
       "      <td>422.7</td>\n",
       "      <td>912.1</td>\n",
       "      <td>0.08</td>\n",
       "      <td>76.0</td>\n",
       "      <td>H5</td>\n",
       "      <td>H2</td>\n",
       "      <td>H2</td>\n",
       "      <td>H2</td>\n",
       "      <td>H2</td>\n",
       "      <td>H2</td>\n",
       "      <td>H2</td>\n",
       "    </tr>\n",
       "    <tr>\n",
       "      <th>2</th>\n",
       "      <td>3</td>\n",
       "      <td>mp-629458</td>\n",
       "      <td>BC2N</td>\n",
       "      <td>orthorhombic</td>\n",
       "      <td>361.6</td>\n",
       "      <td>409.0</td>\n",
       "      <td>891.1</td>\n",
       "      <td>0.09</td>\n",
       "      <td>76.0</td>\n",
       "      <td>H5</td>\n",
       "      <td>H2</td>\n",
       "      <td>H1a</td>\n",
       "      <td>H2</td>\n",
       "      <td>H2</td>\n",
       "      <td>H2</td>\n",
       "      <td>H5</td>\n",
       "    </tr>\n",
       "    <tr>\n",
       "      <th>3</th>\n",
       "      <td>4</td>\n",
       "      <td>mp-1018649</td>\n",
       "      <td>c-BC5</td>\n",
       "      <td>trigonal</td>\n",
       "      <td>405.8</td>\n",
       "      <td>378.2</td>\n",
       "      <td>865.6</td>\n",
       "      <td>0.14</td>\n",
       "      <td>71.0</td>\n",
       "      <td>H2</td>\n",
       "      <td>H2</td>\n",
       "      <td>H4</td>\n",
       "      <td>H2</td>\n",
       "      <td>H2</td>\n",
       "      <td>H2</td>\n",
       "      <td>H2</td>\n",
       "    </tr>\n",
       "    <tr>\n",
       "      <th>4</th>\n",
       "      <td>5</td>\n",
       "      <td>mp-1639</td>\n",
       "      <td>BN</td>\n",
       "      <td>cubic</td>\n",
       "      <td>408.0</td>\n",
       "      <td>374.5</td>\n",
       "      <td>860.2</td>\n",
       "      <td>0.15</td>\n",
       "      <td>63.0</td>\n",
       "      <td>H2</td>\n",
       "      <td>H1a</td>\n",
       "      <td>H2</td>\n",
       "      <td>H2</td>\n",
       "      <td>H2</td>\n",
       "      <td>H5</td>\n",
       "      <td>H2</td>\n",
       "    </tr>\n",
       "  </tbody>\n",
       "</table>\n",
       "</div>"
      ],
      "text/plain": [
       "   No.    material  Formula CrystalSystem   bulk  shear   young  poisson  \\\n",
       "0    1       mp-66  Diamond         cubic  435.3  520.5  1116.5     0.07   \n",
       "1    2    mp-30148     BC2N  orthorhombic  361.0  422.7   912.1     0.08   \n",
       "2    3   mp-629458     BC2N  orthorhombic  361.6  409.0   891.1     0.09   \n",
       "3    4  mp-1018649    c-BC5      trigonal  405.8  378.2   865.6     0.14   \n",
       "4    5     mp-1639       BN         cubic  408.0  374.5   860.2     0.15   \n",
       "\n",
       "   Hexp best y_cs y_gap y_den y_csbg y_csden y_bgden  \n",
       "0  96.0   H5  H1a    H2    H2     H2      H5      H2  \n",
       "1  76.0   H5   H2    H2    H2     H2      H2      H2  \n",
       "2  76.0   H5   H2   H1a    H2     H2      H2      H5  \n",
       "3  71.0   H2   H2    H4    H2     H2      H2      H2  \n",
       "4  63.0   H2  H1a    H2    H2     H2      H5      H2  "
      ]
     },
     "execution_count": 84,
     "metadata": {},
     "output_type": "execute_result"
    }
   ],
   "source": [
    "df = pd.read_csv('dataset.csv')\n",
    "df.head()"
   ]
  },
  {
   "cell_type": "code",
   "execution_count": 85,
   "metadata": {},
   "outputs": [
    {
     "data": {
      "text/plain": [
       "Index(['No.', 'material', 'Formula', 'CrystalSystem', 'bulk', 'shear', 'young',\n",
       "       'poisson', 'Hexp', 'best', 'y_cs', 'y_gap', 'y_den', 'y_csbg',\n",
       "       'y_csden', 'y_bgden'],\n",
       "      dtype='object')"
      ]
     },
     "execution_count": 85,
     "metadata": {},
     "output_type": "execute_result"
    }
   ],
   "source": [
    "df.columns"
   ]
  },
  {
   "cell_type": "markdown",
   "metadata": {},
   "source": [
    "# Hardness Functions"
   ]
  },
  {
   "cell_type": "code",
   "execution_count": 86,
   "metadata": {},
   "outputs": [],
   "source": [
    "def H1a(B,G,Y,v):\n",
    "    return 0.1475*G\n",
    "\n",
    "def H1b(B,G,Y,v):\n",
    "    return 0.0607*Y\n",
    "\n",
    "def H2(B,G,Y,v):\n",
    "    return (0.1769*G)-2.899\n",
    "\n",
    "def H3(B,G,Y,v):\n",
    "    return 0.0635*Y\n",
    "\n",
    "def H4(B,G,Y,v):\n",
    "    return ((1-2*v)*B)/(6*(1+v))\n",
    "\n",
    "def H5(B,G,Y,v):\n",
    "    k = G/B\n",
    "    return (2*np.power(k*k*G,0.585))-3\n",
    "\n",
    "lookup={\"H1a\":H1a, \"H1b\":H1b, \"H2\":H2, \"H3\":H3, \"H4\":H4, \"H5\":H5}"
   ]
  },
  {
   "cell_type": "markdown",
   "metadata": {},
   "source": [
    "# Gradient Boosting Classifier"
   ]
  },
  {
   "cell_type": "code",
   "execution_count": 87,
   "metadata": {},
   "outputs": [],
   "source": [
    "X = df[['bulk','shear','young','poisson']] .values  #.astype(float)\n",
    "y = df['best'].values"
   ]
  },
  {
   "cell_type": "code",
   "execution_count": 88,
   "metadata": {},
   "outputs": [],
   "source": [
    "from sklearn.ensemble import GradientBoostingClassifier\n",
    "gbc = GradientBoostingClassifier(n_estimators=100, learning_rate=0.6, max_depth=1, random_state=0)\n",
    "gbc.fit(X, y) \n",
    "y_gbc = gbc.predict(X)"
   ]
  },
  {
   "cell_type": "code",
   "execution_count": 89,
   "metadata": {},
   "outputs": [
    {
     "data": {
      "text/plain": [
       "array(['H5', 'H5', 'H5', 'H2', 'H2', 'H2', 'H2', 'H5', 'H2', 'H5', 'H2',\n",
       "       'H1b', 'H4', 'H1b', 'H4', 'H4', 'H2', 'H1b', 'H1a', 'H1a', 'H5',\n",
       "       'H2', 'H3', 'H2', 'H5', 'H1b', 'H4', 'H4', 'H4', 'H1a', 'H1a',\n",
       "       'H4', 'H2', 'H4', 'H5', 'H2', 'H4', 'H1b', 'H4', 'H1b', 'H1a',\n",
       "       'H4', 'H4', 'H3', 'H3', 'H5', 'H5', 'H1a', 'H1b', 'H4', 'H4', 'H5',\n",
       "       'H5', 'H4', 'H4', 'H4', 'H1a', 'H3', 'H4', 'H4', 'H5', 'H4', 'H3',\n",
       "       'H5', 'H2', 'H4', 'H3', 'H3', 'H4', 'H4', 'H4', 'H4', 'H5', 'H2',\n",
       "       'H1a', 'H2', 'H4', 'H3', 'H5', 'H2', 'H2', 'H1a', 'H1a', 'H3',\n",
       "       'H3', 'H2', 'H1a', 'H3', 'H3', 'H5', 'H5', 'H1b', 'H1a', 'H1a',\n",
       "       'H1b', 'H1b', 'H1a', 'H1a', 'H5', 'H4', 'H3', 'H5', 'H4', 'H5',\n",
       "       'H5', 'H4', 'H4', 'H5', 'H4', 'H1a', 'H4', 'H4', 'H1a', 'H3',\n",
       "       'H1a', 'H4', 'H2', 'H5', 'H4', 'H4', 'H2', 'H2', 'H2', 'H2', 'H2',\n",
       "       'H5', 'H1b', 'H1b', 'H1b', 'H3', 'H3', 'H3', 'H3', 'H4', 'H1a',\n",
       "       'H3', 'H4', 'H2', 'H5', 'H5', 'H3', 'H3', 'H2'], dtype=object)"
      ]
     },
     "execution_count": 89,
     "metadata": {},
     "output_type": "execute_result"
    }
   ],
   "source": [
    "y_gbc"
   ]
  },
  {
   "cell_type": "code",
   "execution_count": 90,
   "metadata": {},
   "outputs": [],
   "source": [
    "length = y_gbc.size"
   ]
  },
  {
   "cell_type": "code",
   "execution_count": 91,
   "metadata": {},
   "outputs": [],
   "source": [
    "H_gbc = np.zeros(length)\n",
    "for i in range(0,length-1):\n",
    "    function = lookup[y_gbc[i]]\n",
    "    H_gbc[i] = function(df.bulk[i], df.shear[i], df.young[i], df.poisson[i])"
   ]
  },
  {
   "cell_type": "code",
   "execution_count": 92,
   "metadata": {},
   "outputs": [
    {
     "data": {
      "text/plain": [
       "array([92.71, 79.69, 74.89, 64.  , 63.35, 33.84, 32.5 , 33.98, 33.9 ,\n",
       "       36.89, 33.51, 34.54, 30.51, 31.29, 30.78, 28.15, 28.55, 29.7 ,\n",
       "       31.65, 30.13, 27.1 , 28.18, 22.79, 25.26, 24.24, 26.16, 22.65,\n",
       "       24.58, 23.88, 24.51, 21.68, 20.61, 20.08, 19.79, 17.63, 19.8 ,\n",
       "       19.03, 18.73, 21.95, 20.42, 17.95, 12.89, 20.13, 13.63, 13.79,\n",
       "       14.32, 29.3 , 15.55, 13.51, 11.35, 11.6 , 12.56, 11.69,  9.8 ,\n",
       "       12.89, 11.41, 10.8 ,  7.92, 14.09,  8.86,  9.71,  8.84,  7.58,\n",
       "       11.69,  8.81, 10.21,  5.89,  6.91, 10.72,  9.27, 10.08,  8.25,\n",
       "        8.04,  8.  ,  8.02,  7.82,  7.  ,  7.11,  7.47,  6.72,  6.76,\n",
       "        6.98,  7.48,  7.29,  5.31,  6.14,  5.6 ,  5.1 ,  3.98,  5.04,\n",
       "        5.72,  4.88,  5.07,  4.56,  4.47,  4.35,  4.4 ,  3.75,  2.89,\n",
       "        2.64,  2.57,  2.34,  2.9 ,  2.53,  2.52,  2.74,  2.89,  2.04,\n",
       "        2.11,  2.23,  2.5 ,  2.17,  2.01,  1.59,  1.96,  2.07,  2.99,\n",
       "        1.9 ,  1.88,  1.36,  1.95,  1.44,  2.05,  0.92,  1.12, 49.09,\n",
       "       25.92, 26.74, 19.9 , 12.9 ,  9.45, 14.4 ,  7.76,  9.26, 10.12,\n",
       "        8.45,  9.42,  7.18,  7.96,  5.29,  4.31,  1.04,  0.  ])"
      ]
     },
     "execution_count": 92,
     "metadata": {},
     "output_type": "execute_result"
    }
   ],
   "source": [
    "H_gbc"
   ]
  },
  {
   "cell_type": "code",
   "execution_count": 93,
   "metadata": {},
   "outputs": [
    {
     "name": "stdout",
     "output_type": "stream",
     "text": [
      "All set Accuracy   =  0.9440559440559441\n",
      "Mean abs error     =  1.1645333008969088\n",
      "Standard deviation =  1.6456116287003573\n"
     ]
    }
   ],
   "source": [
    "from sklearn import metrics\n",
    "error_gbc = np.abs(df.Hexp - H_gbc)\n",
    "stddev_gbc = np.std(error_gbc)\n",
    "print(\"All set Accuracy   = \", metrics.accuracy_score(y, y_gbc))\n",
    "print(\"Mean abs error     = \", metrics.mean_absolute_error(df.Hexp, H_gbc))\n",
    "print('Standard deviation = ', stddev_gbc)"
   ]
  },
  {
   "cell_type": "markdown",
   "metadata": {},
   "source": [
    "# Gradient Boosting Regressor"
   ]
  },
  {
   "cell_type": "code",
   "execution_count": 94,
   "metadata": {},
   "outputs": [],
   "source": [
    "X = df[['bulk','shear','young','poisson']].values  #.astype(float)\n",
    "y = df['Hexp'].values"
   ]
  },
  {
   "cell_type": "code",
   "execution_count": 95,
   "metadata": {},
   "outputs": [],
   "source": [
    "from sklearn.ensemble import GradientBoostingRegressor\n",
    "reg = GradientBoostingRegressor(random_state=0)\n",
    "reg.fit(X, y)\n",
    "H_gbr = reg.predict(X)"
   ]
  },
  {
   "cell_type": "code",
   "execution_count": 96,
   "metadata": {},
   "outputs": [
    {
     "data": {
      "text/plain": [
       "array([95.87, 76.12, 76.12, 70.59, 62.76, 34.35, 34.1 , 32.54, 31.1 ,\n",
       "       31.67, 32.26, 31.51, 30.6 , 30.86, 29.37, 29.81, 28.47, 30.86,\n",
       "       28.65, 28.61, 26.8 , 25.79, 24.64, 24.28, 25.58, 25.21, 23.18,\n",
       "       23.65, 22.51, 21.67, 22.95, 20.15, 19.68, 20.32, 19.71, 18.9 ,\n",
       "       20.91, 18.59, 19.83, 19.22, 18.02, 16.45, 18.48, 14.66, 13.13,\n",
       "       16.41, 16.37, 12.6 , 11.93, 12.8 , 11.44, 10.3 , 12.27, 11.94,\n",
       "       11.12, 11.94, 10.19,  8.73, 12.5 ,  9.65,  8.56,  9.78,  7.92,\n",
       "       11.24,  9.4 , 10.34,  7.8 ,  8.25, 10.88,  9.84, 10.42,  9.13,\n",
       "        6.83,  7.34,  7.62,  7.35,  7.5 ,  6.03,  7.59,  6.44,  7.12,\n",
       "        8.02,  7.32,  6.07,  5.44,  6.63,  5.32,  4.51,  4.27,  7.35,\n",
       "        6.47,  4.26,  3.74,  3.81,  4.3 ,  4.04,  4.45,  3.36,  5.74,\n",
       "        2.27,  2.57,  5.75,  2.14,  4.8 ,  2.24,  3.29,  2.14,  3.23,\n",
       "        2.36,  1.88,  1.77,  2.32,  1.78,  2.18,  2.38,  1.75,  3.43,\n",
       "        2.05,  2.37,  2.22,  2.11,  2.79,  2.19,  1.39,  1.41, 49.19,\n",
       "       27.98, 26.09, 19.8 , 12.73, 11.4 , 12.44, 10.18, 10.51, 10.05,\n",
       "        7.86, 10.51,  6.63,  7.56,  6.11,  3.38,  1.73,  2.07])"
      ]
     },
     "execution_count": 96,
     "metadata": {},
     "output_type": "execute_result"
    }
   ],
   "source": [
    "H_gbr"
   ]
  },
  {
   "cell_type": "code",
   "execution_count": 97,
   "metadata": {},
   "outputs": [
    {
     "name": "stdout",
     "output_type": "stream",
     "text": [
      "Mean Absolu Error  =  0.9032806873399869\n",
      "Standard deviation =  0.7293246456351304\n"
     ]
    }
   ],
   "source": [
    "MAE_gbr = metrics.mean_absolute_error(df.Hexp, H_gbr)\n",
    "error_gbr = np.abs(df.Hexp - H_gbr)\n",
    "stddev_gbr = np.std(error_gbr)\n",
    "print('Mean Absolu Error  = ', MAE_gbr)\n",
    "print('Standard deviation = ', stddev_gbr)"
   ]
  },
  {
   "cell_type": "markdown",
   "metadata": {},
   "source": [
    "# Figure Prediction vs Experimental"
   ]
  },
  {
   "cell_type": "code",
   "execution_count": 71,
   "metadata": {},
   "outputs": [
    {
     "data": {
      "text/plain": [
       "Index(['No.', 'material', 'Formula', 'CrystalSystem', 'bulk', 'shear', 'young',\n",
       "       'poisson', 'Hexp', 'best', 'y_cs', 'y_gap', 'y_den', 'y_csbg',\n",
       "       'y_csden', 'y_bgden'],\n",
       "      dtype='object')"
      ]
     },
     "execution_count": 71,
     "metadata": {},
     "output_type": "execute_result"
    }
   ],
   "source": [
    "df.columns"
   ]
  },
  {
   "cell_type": "code",
   "execution_count": 72,
   "metadata": {},
   "outputs": [
    {
     "data": {
      "text/html": [
       "<div>\n",
       "<style scoped>\n",
       "    .dataframe tbody tr th:only-of-type {\n",
       "        vertical-align: middle;\n",
       "    }\n",
       "\n",
       "    .dataframe tbody tr th {\n",
       "        vertical-align: top;\n",
       "    }\n",
       "\n",
       "    .dataframe thead th {\n",
       "        text-align: right;\n",
       "    }\n",
       "</style>\n",
       "<table border=\"1\" class=\"dataframe\">\n",
       "  <thead>\n",
       "    <tr style=\"text-align: right;\">\n",
       "      <th></th>\n",
       "      <th>No.</th>\n",
       "      <th>material</th>\n",
       "      <th>Formula</th>\n",
       "      <th>CrystalSystem</th>\n",
       "      <th>bulk</th>\n",
       "      <th>shear</th>\n",
       "      <th>young</th>\n",
       "      <th>poisson</th>\n",
       "      <th>Hexp</th>\n",
       "      <th>best</th>\n",
       "      <th>y_cs</th>\n",
       "      <th>y_gap</th>\n",
       "      <th>y_den</th>\n",
       "      <th>y_csbg</th>\n",
       "      <th>y_csden</th>\n",
       "      <th>y_bgden</th>\n",
       "    </tr>\n",
       "  </thead>\n",
       "  <tbody>\n",
       "    <tr>\n",
       "      <th>0</th>\n",
       "      <td>1</td>\n",
       "      <td>mp-66</td>\n",
       "      <td>Diamond</td>\n",
       "      <td>cubic</td>\n",
       "      <td>435.3</td>\n",
       "      <td>520.5</td>\n",
       "      <td>1116.5</td>\n",
       "      <td>0.07</td>\n",
       "      <td>96.0</td>\n",
       "      <td>H5</td>\n",
       "      <td>H1a</td>\n",
       "      <td>H2</td>\n",
       "      <td>H2</td>\n",
       "      <td>H2</td>\n",
       "      <td>H5</td>\n",
       "      <td>H2</td>\n",
       "    </tr>\n",
       "    <tr>\n",
       "      <th>1</th>\n",
       "      <td>2</td>\n",
       "      <td>mp-30148</td>\n",
       "      <td>BC2N</td>\n",
       "      <td>orthorhombic</td>\n",
       "      <td>361.0</td>\n",
       "      <td>422.7</td>\n",
       "      <td>912.1</td>\n",
       "      <td>0.08</td>\n",
       "      <td>76.0</td>\n",
       "      <td>H5</td>\n",
       "      <td>H2</td>\n",
       "      <td>H2</td>\n",
       "      <td>H2</td>\n",
       "      <td>H2</td>\n",
       "      <td>H2</td>\n",
       "      <td>H2</td>\n",
       "    </tr>\n",
       "    <tr>\n",
       "      <th>2</th>\n",
       "      <td>3</td>\n",
       "      <td>mp-629458</td>\n",
       "      <td>BC2N</td>\n",
       "      <td>orthorhombic</td>\n",
       "      <td>361.6</td>\n",
       "      <td>409.0</td>\n",
       "      <td>891.1</td>\n",
       "      <td>0.09</td>\n",
       "      <td>76.0</td>\n",
       "      <td>H5</td>\n",
       "      <td>H2</td>\n",
       "      <td>H1a</td>\n",
       "      <td>H2</td>\n",
       "      <td>H2</td>\n",
       "      <td>H2</td>\n",
       "      <td>H5</td>\n",
       "    </tr>\n",
       "    <tr>\n",
       "      <th>3</th>\n",
       "      <td>4</td>\n",
       "      <td>mp-1018649</td>\n",
       "      <td>c-BC5</td>\n",
       "      <td>trigonal</td>\n",
       "      <td>405.8</td>\n",
       "      <td>378.2</td>\n",
       "      <td>865.6</td>\n",
       "      <td>0.14</td>\n",
       "      <td>71.0</td>\n",
       "      <td>H2</td>\n",
       "      <td>H2</td>\n",
       "      <td>H4</td>\n",
       "      <td>H2</td>\n",
       "      <td>H2</td>\n",
       "      <td>H2</td>\n",
       "      <td>H2</td>\n",
       "    </tr>\n",
       "    <tr>\n",
       "      <th>4</th>\n",
       "      <td>5</td>\n",
       "      <td>mp-1639</td>\n",
       "      <td>BN</td>\n",
       "      <td>cubic</td>\n",
       "      <td>408.0</td>\n",
       "      <td>374.5</td>\n",
       "      <td>860.2</td>\n",
       "      <td>0.15</td>\n",
       "      <td>63.0</td>\n",
       "      <td>H2</td>\n",
       "      <td>H1a</td>\n",
       "      <td>H2</td>\n",
       "      <td>H2</td>\n",
       "      <td>H2</td>\n",
       "      <td>H5</td>\n",
       "      <td>H2</td>\n",
       "    </tr>\n",
       "  </tbody>\n",
       "</table>\n",
       "</div>"
      ],
      "text/plain": [
       "   No.    material  Formula CrystalSystem   bulk  shear   young  poisson  \\\n",
       "0    1       mp-66  Diamond         cubic  435.3  520.5  1116.5     0.07   \n",
       "1    2    mp-30148     BC2N  orthorhombic  361.0  422.7   912.1     0.08   \n",
       "2    3   mp-629458     BC2N  orthorhombic  361.6  409.0   891.1     0.09   \n",
       "3    4  mp-1018649    c-BC5      trigonal  405.8  378.2   865.6     0.14   \n",
       "4    5     mp-1639       BN         cubic  408.0  374.5   860.2     0.15   \n",
       "\n",
       "   Hexp best y_cs y_gap y_den y_csbg y_csden y_bgden  \n",
       "0  96.0   H5  H1a    H2    H2     H2      H5      H2  \n",
       "1  76.0   H5   H2    H2    H2     H2      H2      H2  \n",
       "2  76.0   H5   H2   H1a    H2     H2      H2      H5  \n",
       "3  71.0   H2   H2    H4    H2     H2      H2      H2  \n",
       "4  63.0   H2  H1a    H2    H2     H2      H5      H2  "
      ]
     },
     "execution_count": 72,
     "metadata": {},
     "output_type": "execute_result"
    }
   ],
   "source": [
    "df.head()"
   ]
  },
  {
   "cell_type": "code",
   "execution_count": 74,
   "metadata": {},
   "outputs": [],
   "source": [
    "H_exp = df['Hexp'].values\n",
    "y_cla = df['y_csbg'].values"
   ]
  },
  {
   "cell_type": "code",
   "execution_count": 75,
   "metadata": {},
   "outputs": [],
   "source": [
    "H_cla = np.zeros(length)\n",
    "for i in range(0,length-1):\n",
    "    function = lookup[y_cla[i]]\n",
    "    H_cla[i] = function(df.bulk[i], df.shear[i], df.young[i], df.poisson[i])"
   ]
  },
  {
   "cell_type": "code",
   "execution_count": 76,
   "metadata": {},
   "outputs": [
    {
     "data": {
      "text/plain": [
       "array([89.18, 71.88, 69.45, 64.  , 63.35, 33.84, 32.5 , 33.98, 22.64,\n",
       "       36.89, 33.51, 27.61, 30.51, 25.07, 30.78, 28.15, 28.55, 34.96,\n",
       "       31.65, 30.13, 27.1 , 25.92, 21.05, 23.48, 22.1 , 26.58, 22.65,\n",
       "       36.82, 23.88, 18.79, 23.11, 22.85, 19.16, 26.64, 23.04, 18.92,\n",
       "       19.03, 18.73, 29.03, 20.52, 18.33, 12.89, 20.13, 12.19, 12.51,\n",
       "       17.13, 29.3 , 15.55, 12.79, 15.18, 15.57, 12.56, 11.69,  9.8 ,\n",
       "       12.89, 15.62, 10.8 ,  5.08, 19.18, 11.02,  9.71,  8.84,  6.51,\n",
       "       16.18,  9.76, 13.34,  4.88,  6.73, 10.72, 12.21, 10.08,  8.25,\n",
       "        8.04,  8.  ,  8.02,  6.66,  8.48,  6.09,  8.64,  6.18,  6.15,\n",
       "        5.47,  7.48,  6.21,  4.47,  6.14,  5.6 ,  4.12,  3.38,  8.58,\n",
       "        5.72,  4.37,  5.07,  4.56,  6.17,  3.83,  5.08,  3.15,  7.57,\n",
       "        3.45,  1.68,  6.67,  3.76,  2.53,  3.25,  2.74,  2.89,  3.93,\n",
       "        2.82,  2.23,  0.7 ,  3.05,  1.51, -2.65, -0.55,  2.07,  2.99,\n",
       "        3.  ,  1.88,  1.36,  2.69,  2.75,  2.05,  0.92,  2.44, 38.83,\n",
       "       30.41, 31.9 , 21.97, 11.62,  7.52, 13.25,  5.01, 12.43,  9.24,\n",
       "        7.29, 12.6 ,  7.18,  7.91,  5.29,  3.57,  0.7 ,  0.  ])"
      ]
     },
     "execution_count": 76,
     "metadata": {},
     "output_type": "execute_result"
    }
   ],
   "source": [
    "H_cla"
   ]
  },
  {
   "cell_type": "code",
   "execution_count": 77,
   "metadata": {},
   "outputs": [
    {
     "data": {
      "text/plain": [
       "Text(0, 0.5, 'Predicted hardness (GPa)')"
      ]
     },
     "execution_count": 77,
     "metadata": {},
     "output_type": "execute_result"
    },
    {
     "data": {
      "image/png": "[encoded data removed]",
      "text/plain": [
       "<Figure size 432x288 with 1 Axes>"
      ]
     },
     "metadata": {
      "needs_background": "light"
     },
     "output_type": "display_data"
    }
   ],
   "source": [
    "plt.plot(H_exp, H_exp, color='red')\n",
    "plt.scatter(H_exp, H_cla, label='CLA')\n",
    "plt.legend()\n",
    "plt.xlabel(\"Experimental hardness (GPa)\")\n",
    "plt.ylabel(\"Predicted hardness (GPa)\")"
   ]
  },
  {
   "cell_type": "code",
   "execution_count": 78,
   "metadata": {},
   "outputs": [
    {
     "data": {
      "text/plain": [
       "Text(0, 0.5, 'Predicted hardness (GPa)')"
      ]
     },
     "execution_count": 78,
     "metadata": {},
     "output_type": "execute_result"
    },
    {
     "data": {
      "image/png": "[encoded data removed]",
      "text/plain": [
       "<Figure size 432x288 with 1 Axes>"
      ]
     },
     "metadata": {
      "needs_background": "light"
     },
     "output_type": "display_data"
    }
   ],
   "source": [
    "plt.plot(H_exp, H_exp, color='red')\n",
    "plt.scatter(H_exp, H_gbc, label='GBC')\n",
    "plt.legend()\n",
    "plt.xlabel(\"Experimental hardness (GPa)\")\n",
    "plt.ylabel(\"Predicted hardness (GPa)\")"
   ]
  },
  {
   "cell_type": "code",
   "execution_count": 79,
   "metadata": {},
   "outputs": [
    {
     "data": {
      "text/plain": [
       "Text(0, 0.5, 'Predicted hardness (GPa)')"
      ]
     },
     "execution_count": 79,
     "metadata": {},
     "output_type": "execute_result"
    },
    {
     "data": {
      "image/png": "[encoded data removed]",
      "text/plain": [
       "<Figure size 432x288 with 1 Axes>"
      ]
     },
     "metadata": {
      "needs_background": "light"
     },
     "output_type": "display_data"
    }
   ],
   "source": [
    "plt.plot(H_exp, H_exp, color='red')\n",
    "plt.scatter(H_exp, H_gbr, label='GBR')\n",
    "plt.legend()\n",
    "plt.xlabel(\"Experimental hardness (GPa)\")\n",
    "plt.ylabel(\"Predicted hardness (GPa)\")"
   ]
  },
  {
   "cell_type": "code",
   "execution_count": 80,
   "metadata": {},
   "outputs": [
    {
     "name": "stdout",
     "output_type": "stream",
     "text": [
      "R2 CLA  =  0.9475393556755983\n",
      "R2 GBC  =  0.9831589025159361\n",
      "R2 GBR  =  0.9944148710753455\n"
     ]
    }
   ],
   "source": [
    "from sklearn.metrics import r2_score\n",
    "r2_cla = r2_score(H_exp, H_cla)\n",
    "r2_gbc = r2_score(H_exp, H_gbc)\n",
    "r2_gbr = r2_score(H_exp, H_gbr)\n",
    "print(\"R2 CLA  = \", r2_cla)\n",
    "print(\"R2 GBC  = \", r2_gbc)\n",
    "print(\"R2 GBR  = \", r2_gbr)"
   ]
  },
  {
   "cell_type": "markdown",
   "metadata": {},
   "source": [
    "# Write data to CSV file"
   ]
  },
  {
   "cell_type": "code",
   "execution_count": 81,
   "metadata": {},
   "outputs": [],
   "source": [
    "df['Hx_cla'] = H_cla\n",
    "df['yx_gbc'] = y_gbc\n",
    "df['Hx_gbc'] = H_gbc\n",
    "df['Hx_gbr'] = H_gbr"
   ]
  },
  {
   "cell_type": "code",
   "execution_count": 82,
   "metadata": {},
   "outputs": [],
   "source": [
    "df.to_excel('prediction_dataset.xls', index=False)"
   ]
  },
  {
   "cell_type": "markdown",
   "metadata": {},
   "source": [
    "# The Classic Algorithm"
   ]
  },
  {
   "cell_type": "code",
   "execution_count": 47,
   "metadata": {},
   "outputs": [],
   "source": [
    "csyst = 'Cubic'\n",
    "bandgap = 'Semiconductor'\n",
    "density = 'High'\n",
    "cla_1 = 'n/a'\n",
    "cla_2 = 'n/a'\n",
    "cla_3 = 'n/a'"
   ]
  },
  {
   "cell_type": "code",
   "execution_count": 48,
   "metadata": {},
   "outputs": [],
   "source": [
    "if csyst == 'Cubic' and bandgap == 'Metal': \n",
    "    cla_1 = 'H1a'\n",
    "if csyst == 'Hexagonal' and bandgap == 'Semiconductor':\n",
    "    cla_1 = 'H1a'\n",
    "if csyst == 'Tetragonal' and bandgap == 'Semiconductor':\n",
    "    cla_1 = 'H1a'\n",
    "if csyst == 'Hexagonal' and bandgap == 'Insulator':\n",
    "    cla_1 = 'H1b'\n",
    "if csyst == 'Cubic' and bandgap == 'Insulator':\n",
    "    cla_1 = 'H2'\n",
    "if csyst == 'Monoclinic' and bandgap == 'Insulator':\n",
    "    cla_1 = 'H2'\n",
    "if csyst == 'Orthorhombic' and bandgap == 'Insulator':\n",
    "    cla_1 = 'H2'\n",
    "if csyst == 'Orthorhombic' and bandgap == 'Semiconductor':\n",
    "    cla_1 = 'H2'\n",
    "if csyst == 'Trigonal' and bandgap == 'Insulator':\n",
    "    cla_1 = 'H2'\n",
    "if csyst == 'Trigonal' and bandgap == 'Metal':\n",
    "    cla_1 = 'H2'\n",
    "if csyst == 'Trigonal' and bandgap == 'Semiconductor':\n",
    "    cla_1 = 'H2'\n",
    "if csyst == 'Hexagonal' and bandgap == 'Metal':\n",
    "    cla_1 = 'H4'\n",
    "if csyst == 'Monoclinic' and bandgap == 'Metal':\n",
    "    cla_1 = 'H4'\n",
    "if csyst == 'Monoclinic' and bandgap == 'Semiconductor':\n",
    "    cla_1 = 'H4'\n",
    "if csyst == 'Orthorhombic' and bandgap == 'Metal':\n",
    "    cla_1 = 'H4'\n",
    "if csyst == 'Tetragonal' and bandgap == 'Insulator':\n",
    "    cla_1 = 'H4'\n",
    "if csyst == 'Tetragonal' and bandgap == 'Metal':\n",
    "    cla_1 = 'H4'\n",
    "if csyst == 'Triclinic' and bandgap == 'Metal':\n",
    "    cla_1 = 'H4'\n",
    "if csyst == 'Cubic' and bandgap == 'Semiconductor':\n",
    "    cla_1 = 'H5'\n",
    "if csyst == 'Triclinic' and bandgap == 'Insulator':\n",
    "    cla_1 = 'H5'\n",
    "if csyst == 'Triclinic' and bandgap == 'Semiconductor':\n",
    "    cla_1 = 'H5'"
   ]
  },
  {
   "cell_type": "code",
   "execution_count": 49,
   "metadata": {},
   "outputs": [
    {
     "data": {
      "text/plain": [
       "'H5'"
      ]
     },
     "execution_count": 49,
     "metadata": {},
     "output_type": "execute_result"
    }
   ],
   "source": [
    "cla_1"
   ]
  },
  {
   "cell_type": "code",
   "execution_count": 50,
   "metadata": {},
   "outputs": [],
   "source": [
    "if csyst == 'Cubic' and density == 'High':\n",
    "    cla_2 = 'H1a'\n",
    "if csyst == 'Cubic' and density == 'Low':\n",
    "    cla_2 = 'H5'\n",
    "if csyst == 'Cubic' and density == 'Medium':\n",
    "    cla_2 = 'H1a'\n",
    "if csyst == 'Hexagonal' and density == 'High':\n",
    "    cla_2 = 'H4'\n",
    "if csyst == 'Hexagonal' and density == 'Low':\n",
    "    cla_2 = 'H1b'\n",
    "if csyst == 'Hexagonal' and density == 'Medium':\n",
    "    cla_2 = 'H4'\n",
    "if csyst == 'Monoclinic' and density == 'Low':\n",
    "    cla_2 = 'H1b'\n",
    "if csyst == 'Monoclinic' and density == 'Medium':\n",
    "    cla_2 = 'H4'\n",
    "if csyst == 'Orthorhombic' and density == 'High':\n",
    "    cla_2 = 'H1a'\n",
    "if csyst == 'Orthorhombic' and density == 'Low':\n",
    "    cla_2 = 'H2'\n",
    "if csyst == 'Orthorhombic' and density == 'Medium':\n",
    "    cla_2 = 'H4'\n",
    "if csyst == 'Tetragonal' and density == 'High':\n",
    "    cla_2 = 'H3'\n",
    "if csyst == 'Tetragonal' and density == 'Low':\n",
    "    cla_2 = 'H2'\n",
    "if csyst == 'Tetragonal' and density == 'Medium':\n",
    "    cla_2 = 'H4'\n",
    "if csyst == 'Triclinic' and density == 'Low':\n",
    "    cla_2 = 'H5'\n",
    "if csyst == 'Triclinic' and density == 'Medium':\n",
    "    cla_2 = 'H4'\n",
    "if csyst == 'Trigonal' and density == 'Low':\n",
    "    cla_2 = 'H2'\n",
    "if csyst == 'Trigonal' and density == 'Medium':\n",
    "    cla_2 = 'H4'"
   ]
  },
  {
   "cell_type": "code",
   "execution_count": 51,
   "metadata": {},
   "outputs": [
    {
     "data": {
      "text/plain": [
       "'H1a'"
      ]
     },
     "execution_count": 51,
     "metadata": {},
     "output_type": "execute_result"
    }
   ],
   "source": [
    "cla_2"
   ]
  },
  {
   "cell_type": "code",
   "execution_count": 52,
   "metadata": {},
   "outputs": [],
   "source": [
    "if density == 'Low' and bandgap == 'Insulator':\n",
    "    cla_3 = 'H2'\n",
    "if density == 'Low' and bandgap == 'Metal':\n",
    "    cla_3 = 'H2'\n",
    "if density == 'Low' and bandgap == 'Semiconductor':\n",
    "    cla_3 = 'H5'\n",
    "if density == 'Medium' and bandgap == 'Insulator':\n",
    "    cla_3 = 'H2'\n",
    "if density == 'Medium' and bandgap == 'Metal':\n",
    "    cla_3 = 'H4'\n",
    "if density == 'Medium' and bandgap == 'Semiconductor':\n",
    "    cla_3 = 'H4'\n",
    "if density == 'High' and bandgap == 'Metal':\n",
    "    cla_3 = 'H4'\n",
    "if density == 'High' and bandgap == 'Semiconductor':\n",
    "    cla_3 = 'H3'"
   ]
  },
  {
   "cell_type": "code",
   "execution_count": 53,
   "metadata": {},
   "outputs": [
    {
     "data": {
      "text/plain": [
       "'H3'"
      ]
     },
     "execution_count": 53,
     "metadata": {},
     "output_type": "execute_result"
    }
   ],
   "source": [
    "cla_3"
   ]
  },
  {
   "cell_type": "code",
   "execution_count": null,
   "metadata": {},
   "outputs": [],
   "source": []
  }
 ],
 "metadata": {
  "kernelspec": {
   "display_name": "Python 3",
   "language": "python",
   "name": "python3"
  },
  "language_info": {
   "codemirror_mode": {
    "name": "ipython",
    "version": 3
   },
   "file_extension": ".py",
   "mimetype": "text/x-python",
   "name": "python",
   "nbconvert_exporter": "python",
   "pygments_lexer": "ipython3",
   "version": "3.8.5"
  }
 },
 "nbformat": 4,
 "nbformat_minor": 4
}
