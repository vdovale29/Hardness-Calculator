{
 "cells": [
  {
   "cell_type": "markdown",
   "metadata": {},
   "source": [
    "# Load Data From CSV File"
   ]
  },
  {
   "cell_type": "code",
   "execution_count": 1,
   "metadata": {},
   "outputs": [],
   "source": [
    "import numpy as np\n",
    "import matplotlib.pyplot as plt\n",
    "import pandas as pd\n",
    "import numpy as np\n",
    "np.set_printoptions(precision=2)\n",
    "from sklearn import preprocessing\n",
    "import pylab as pl\n",
    "import scipy.optimize as opt\n",
    "%matplotlib inline"
   ]
  },
  {
   "cell_type": "code",
   "execution_count": 2,
   "metadata": {},
   "outputs": [
    {
     "data": {
      "text/html": [
       "<div>\n",
       "<style scoped>\n",
       "    .dataframe tbody tr th:only-of-type {\n",
       "        vertical-align: middle;\n",
       "    }\n",
       "\n",
       "    .dataframe tbody tr th {\n",
       "        vertical-align: top;\n",
       "    }\n",
       "\n",
       "    .dataframe thead th {\n",
       "        text-align: right;\n",
       "    }\n",
       "</style>\n",
       "<table border=\"1\" class=\"dataframe\">\n",
       "  <thead>\n",
       "    <tr style=\"text-align: right;\">\n",
       "      <th></th>\n",
       "      <th>No.</th>\n",
       "      <th>material</th>\n",
       "      <th>Formula</th>\n",
       "      <th>CrystalSystem</th>\n",
       "      <th>bulk</th>\n",
       "      <th>shear</th>\n",
       "      <th>young</th>\n",
       "      <th>poisson</th>\n",
       "      <th>Hexp</th>\n",
       "      <th>best</th>\n",
       "      <th>y_cs</th>\n",
       "      <th>y_gap</th>\n",
       "      <th>y_den</th>\n",
       "      <th>y_csbg</th>\n",
       "      <th>y_csden</th>\n",
       "      <th>y_bgden</th>\n",
       "    </tr>\n",
       "  </thead>\n",
       "  <tbody>\n",
       "    <tr>\n",
       "      <th>0</th>\n",
       "      <td>1</td>\n",
       "      <td>mp-66</td>\n",
       "      <td>Diamond</td>\n",
       "      <td>cubic</td>\n",
       "      <td>435.3</td>\n",
       "      <td>520.5</td>\n",
       "      <td>1116.5</td>\n",
       "      <td>0.07</td>\n",
       "      <td>96.0</td>\n",
       "      <td>H5</td>\n",
       "      <td>H1a</td>\n",
       "      <td>H2</td>\n",
       "      <td>H2</td>\n",
       "      <td>H2</td>\n",
       "      <td>H5</td>\n",
       "      <td>H2</td>\n",
       "    </tr>\n",
       "    <tr>\n",
       "      <th>1</th>\n",
       "      <td>2</td>\n",
       "      <td>mp-30148</td>\n",
       "      <td>BC2N</td>\n",
       "      <td>orthorhombic</td>\n",
       "      <td>361.0</td>\n",
       "      <td>422.7</td>\n",
       "      <td>912.1</td>\n",
       "      <td>0.08</td>\n",
       "      <td>76.0</td>\n",
       "      <td>H5</td>\n",
       "      <td>H2</td>\n",
       "      <td>H2</td>\n",
       "      <td>H2</td>\n",
       "      <td>H2</td>\n",
       "      <td>H2</td>\n",
       "      <td>H2</td>\n",
       "    </tr>\n",
       "    <tr>\n",
       "      <th>2</th>\n",
       "      <td>3</td>\n",
       "      <td>mp-629458</td>\n",
       "      <td>BC2N</td>\n",
       "      <td>orthorhombic</td>\n",
       "      <td>361.6</td>\n",
       "      <td>409.0</td>\n",
       "      <td>891.1</td>\n",
       "      <td>0.09</td>\n",
       "      <td>76.0</td>\n",
       "      <td>H5</td>\n",
       "      <td>H2</td>\n",
       "      <td>H1a</td>\n",
       "      <td>H2</td>\n",
       "      <td>H2</td>\n",
       "      <td>H2</td>\n",
       "      <td>H5</td>\n",
       "    </tr>\n",
       "    <tr>\n",
       "      <th>3</th>\n",
       "      <td>4</td>\n",
       "      <td>mp-1018649</td>\n",
       "      <td>c-BC5</td>\n",
       "      <td>trigonal</td>\n",
       "      <td>405.8</td>\n",
       "      <td>378.2</td>\n",
       "      <td>865.6</td>\n",
       "      <td>0.14</td>\n",
       "      <td>71.0</td>\n",
       "      <td>H2</td>\n",
       "      <td>H2</td>\n",
       "      <td>H4</td>\n",
       "      <td>H2</td>\n",
       "      <td>H2</td>\n",
       "      <td>H2</td>\n",
       "      <td>H2</td>\n",
       "    </tr>\n",
       "    <tr>\n",
       "      <th>4</th>\n",
       "      <td>5</td>\n",
       "      <td>mp-1639</td>\n",
       "      <td>BN</td>\n",
       "      <td>cubic</td>\n",
       "      <td>408.0</td>\n",
       "      <td>374.5</td>\n",
       "      <td>860.2</td>\n",
       "      <td>0.15</td>\n",
       "      <td>63.0</td>\n",
       "      <td>H2</td>\n",
       "      <td>H1a</td>\n",
       "      <td>H2</td>\n",
       "      <td>H2</td>\n",
       "      <td>H2</td>\n",
       "      <td>H5</td>\n",
       "      <td>H2</td>\n",
       "    </tr>\n",
       "  </tbody>\n",
       "</table>\n",
       "</div>"
      ],
      "text/plain": [
       "   No.    material  Formula CrystalSystem   bulk  shear   young  poisson  \\\n",
       "0    1       mp-66  Diamond         cubic  435.3  520.5  1116.5     0.07   \n",
       "1    2    mp-30148     BC2N  orthorhombic  361.0  422.7   912.1     0.08   \n",
       "2    3   mp-629458     BC2N  orthorhombic  361.6  409.0   891.1     0.09   \n",
       "3    4  mp-1018649    c-BC5      trigonal  405.8  378.2   865.6     0.14   \n",
       "4    5     mp-1639       BN         cubic  408.0  374.5   860.2     0.15   \n",
       "\n",
       "   Hexp best y_cs y_gap y_den y_csbg y_csden y_bgden  \n",
       "0  96.0   H5  H1a    H2    H2     H2      H5      H2  \n",
       "1  76.0   H5   H2    H2    H2     H2      H2      H2  \n",
       "2  76.0   H5   H2   H1a    H2     H2      H2      H5  \n",
       "3  71.0   H2   H2    H4    H2     H2      H2      H2  \n",
       "4  63.0   H2  H1a    H2    H2     H2      H5      H2  "
      ]
     },
     "execution_count": 2,
     "metadata": {},
     "output_type": "execute_result"
    }
   ],
   "source": [
    "df = pd.read_csv('dataset.csv')\n",
    "df.head()"
   ]
  },
  {
   "cell_type": "code",
   "execution_count": 3,
   "metadata": {},
   "outputs": [
    {
     "data": {
      "text/plain": [
       "Index(['No.', 'material', 'Formula', 'CrystalSystem', 'bulk', 'shear', 'young',\n",
       "       'poisson', 'Hexp', 'best', 'y_cs', 'y_gap', 'y_den', 'y_csbg',\n",
       "       'y_csden', 'y_bgden'],\n",
       "      dtype='object')"
      ]
     },
     "execution_count": 3,
     "metadata": {},
     "output_type": "execute_result"
    }
   ],
   "source": [
    "df.columns"
   ]
  },
  {
   "cell_type": "markdown",
   "metadata": {},
   "source": [
    "# Feature set and Normalize Data"
   ]
  },
  {
   "cell_type": "code",
   "execution_count": 4,
   "metadata": {},
   "outputs": [],
   "source": [
    "X = df[['bulk','shear','young','poisson']] .values  #.astype(float)\n",
    "X = preprocessing.StandardScaler().fit(X).transform(X.astype(float))\n",
    "y = df['best'].values"
   ]
  },
  {
   "cell_type": "code",
   "execution_count": 5,
   "metadata": {},
   "outputs": [
    {
     "data": {
      "text/plain": [
       "(143, 4)"
      ]
     },
     "execution_count": 5,
     "metadata": {},
     "output_type": "execute_result"
    }
   ],
   "source": [
    "X.shape"
   ]
  },
  {
   "cell_type": "markdown",
   "metadata": {},
   "source": [
    "# Train Test Split"
   ]
  },
  {
   "cell_type": "code",
   "execution_count": 6,
   "metadata": {},
   "outputs": [
    {
     "name": "stdout",
     "output_type": "stream",
     "text": [
      "Train set: (114, 4) (114,)\n",
      "Test set: (29, 4) (29,)\n"
     ]
    }
   ],
   "source": [
    "from sklearn.model_selection import train_test_split\n",
    "X_train, X_test, y_train, y_test = train_test_split( X, y, test_size=0.2, random_state=4)\n",
    "print ('Train set:', X_train.shape,  y_train.shape)\n",
    "print ('Test set:', X_test.shape,  y_test.shape)"
   ]
  },
  {
   "cell_type": "markdown",
   "metadata": {},
   "source": [
    "# Hardness Function"
   ]
  },
  {
   "cell_type": "code",
   "execution_count": 7,
   "metadata": {},
   "outputs": [],
   "source": [
    "def H1a(B,G,Y,v):\n",
    "    return 0.1475*G\n",
    "\n",
    "def H1b(B,G,Y,v):\n",
    "    return 0.0607*Y\n",
    "\n",
    "def H2(B,G,Y,v):\n",
    "    return (0.1769*G)-2.899\n",
    "\n",
    "def H3(B,G,Y,v):\n",
    "    return 0.0635*Y\n",
    "\n",
    "def H4(B,G,Y,v):\n",
    "    return ((1-2*v)*B)/(6*(1+v))\n",
    "\n",
    "def H5(B,G,Y,v):\n",
    "    k = G/B\n",
    "    return (2*np.power(k*k*G,0.585))-3\n",
    "\n",
    "lookup={\"H1a\":H1a, \"H1b\":H1b, \"H2\":H2, \"H3\":H3, \"H4\":H4, \"H5\":H5}"
   ]
  },
  {
   "cell_type": "markdown",
   "metadata": {},
   "source": [
    "# K-Nearest Neighbors"
   ]
  },
  {
   "cell_type": "code",
   "execution_count": 8,
   "metadata": {},
   "outputs": [
    {
     "name": "stdout",
     "output_type": "stream",
     "text": [
      "Mean abs error [1.43 2.36 2.31 2.42 2.27 2.43 2.73 3.04 3.36]\n",
      "Standart deviation [2.01 3.14 2.86 3.02 2.81 2.86 3.88 4.85 5.78]\n",
      "The best accuracy was with 2.305430132568611 with k=3\n"
     ]
    }
   ],
   "source": [
    "# Optimization of K for MAE\n",
    "from sklearn.neighbors import KNeighborsClassifier\n",
    "from sklearn import metrics\n",
    "Ks = 10\n",
    "mean_err = np.zeros((Ks-1))\n",
    "std_dev = np.zeros((Ks-1))\n",
    "for n in range(1,Ks):\n",
    "    #Train Model and Predict  \n",
    "    neigh = KNeighborsClassifier(n_neighbors = n).fit(X_train,y_train)\n",
    "    yhat = neigh.predict(X)\n",
    "    Hpred = np.zeros(143)\n",
    "    diff = np.zeros(143)\n",
    "    for i in range(0,142):\n",
    "        function = lookup[yhat[i]]\n",
    "        Hpred[i] = function(df.bulk[i], df.shear[i], df.young[i], df.poisson[i])\n",
    "        diff[i] = np.abs(df.Hexp[i]-Hpred[i])\n",
    "    mean_err[n-1] = metrics.mean_absolute_error(df.Hexp, Hpred)\n",
    "    std_dev[n-1] = np.std(diff)\n",
    "print('Mean abs error',mean_err)\n",
    "print('Standart deviation',std_dev)\n",
    "print( \"The best accuracy was with\", mean_err[2], \"with k=3\")"
   ]
  },
  {
   "cell_type": "code",
   "execution_count": 9,
   "metadata": {},
   "outputs": [
    {
     "data": {
      "text/plain": [
       "Text(0.5, 0, 'Number of Neighbors (K)')"
      ]
     },
     "execution_count": 9,
     "metadata": {},
     "output_type": "execute_result"
    },
    {
     "data": {
      "image/png": "[encoded data removed]",
      "text/plain": [
       "<Figure size 432x288 with 1 Axes>"
      ]
     },
     "metadata": {
      "needs_background": "light"
     },
     "output_type": "display_data"
    }
   ],
   "source": [
    "# Plot the model accuracy for a different number of neighbors\n",
    "plt.plot(range(1,Ks),mean_err,'g')\n",
    "plt.ylabel('Mean abs error ')\n",
    "plt.xlabel('Number of Neighbors (K)')"
   ]
  },
  {
   "cell_type": "code",
   "execution_count": 10,
   "metadata": {},
   "outputs": [],
   "source": [
    "k=3\n",
    "from sklearn.neighbors import KNeighborsClassifier\n",
    "neigh = KNeighborsClassifier(n_neighbors = k).fit(X_train,y_train)\n",
    "yhat_0 = neigh.predict(X_test)\n",
    "yhat_prob_0 = neigh.predict_proba(X_test)\n",
    "y_knn = neigh.predict(X)"
   ]
  },
  {
   "cell_type": "code",
   "execution_count": 11,
   "metadata": {},
   "outputs": [],
   "source": [
    "H_knn = np.zeros(143)\n",
    "for i in range(0,142):\n",
    "    function = lookup[y_knn[i]]\n",
    "    H_knn[i] = function(df.bulk[i], df.shear[i], df.young[i], df.poisson[i])\n",
    "error_knn = np.abs(df.Hexp - H_knn)\n",
    "stddev_knn = np.std(error_knn)"
   ]
  },
  {
   "cell_type": "code",
   "execution_count": 12,
   "metadata": {},
   "outputs": [
    {
     "name": "stdout",
     "output_type": "stream",
     "text": [
      "Train set Accuracy =  0.5964912280701754\n",
      "Test set Accuracy  =  0.20689655172413793\n",
      "All set Accuracy   =  0.5174825174825175\n",
      "Mean abs error     =  2.305430132568611\n",
      "Standard deviation =  2.850749468385723\n"
     ]
    }
   ],
   "source": [
    "from sklearn import metrics\n",
    "print(\"Train set Accuracy = \", metrics.accuracy_score(y_train, neigh.predict(X_train)))\n",
    "print(\"Test set Accuracy  = \", metrics.accuracy_score(y_test, neigh.predict(X_test)))\n",
    "print(\"All set Accuracy   = \", metrics.accuracy_score(y, neigh.predict(X)))\n",
    "print(\"Mean abs error     = \", metrics.mean_absolute_error(df.Hexp, H_knn))\n",
    "print('Standard deviation = ', stddev_knn)"
   ]
  },
  {
   "cell_type": "markdown",
   "metadata": {},
   "source": [
    "# Decision Tree"
   ]
  },
  {
   "cell_type": "code",
   "execution_count": 13,
   "metadata": {},
   "outputs": [],
   "source": [
    "from sklearn.tree import DecisionTreeClassifier\n",
    "hardnessTree = DecisionTreeClassifier(criterion=\"entropy\", max_depth = 3)\n",
    "hardnessTree.fit(X_train,y_train)\n",
    "yhat_1 = hardnessTree.predict(X_test)\n",
    "yhat_prob_1 = hardnessTree.predict_proba(X_test)\n",
    "y_tree = hardnessTree.predict(X)"
   ]
  },
  {
   "cell_type": "code",
   "execution_count": 14,
   "metadata": {},
   "outputs": [],
   "source": [
    "H_tree = np.zeros(143)\n",
    "for i in range(0,142):\n",
    "    function = lookup[y_tree[i]]\n",
    "    H_tree[i] = function(df.bulk[i], df.shear[i], df.young[i], df.poisson[i])\n",
    "error_tree = np.abs(df.Hexp - H_tree)\n",
    "stddev_tree = np.std(error_tree)"
   ]
  },
  {
   "cell_type": "code",
   "execution_count": 15,
   "metadata": {},
   "outputs": [
    {
     "name": "stdout",
     "output_type": "stream",
     "text": [
      "Train set Accuracy =  0.49122807017543857\n",
      "Test set Accuracy  =  0.27586206896551724\n",
      "All set Accuracy   =  0.44755244755244755\n",
      "Mean abs error     =  2.9454290829079297\n",
      "Standard deviation =  3.6690005992091765\n"
     ]
    }
   ],
   "source": [
    "from sklearn import metrics\n",
    "print(\"Train set Accuracy = \", metrics.accuracy_score(y_train, hardnessTree.predict(X_train)))\n",
    "print(\"Test set Accuracy  = \", metrics.accuracy_score(y_test, hardnessTree.predict(X_test)))\n",
    "print(\"All set Accuracy   = \", metrics.accuracy_score(y, hardnessTree.predict(X)))\n",
    "print(\"Mean abs error     = \", metrics.mean_absolute_error(df.Hexp, H_tree))\n",
    "print('Standard deviation = ', stddev_tree)"
   ]
  },
  {
   "cell_type": "markdown",
   "metadata": {},
   "source": [
    "# Logistic Regression"
   ]
  },
  {
   "cell_type": "code",
   "execution_count": 16,
   "metadata": {},
   "outputs": [],
   "source": [
    "from sklearn.linear_model import LogisticRegression\n",
    "LR = LogisticRegression(C=0.01, solver='liblinear').fit(X_train,y_train)\n",
    "yhat_2 = LR.predict(X_test)\n",
    "yhat_prob_2 = LR.predict_proba(X_test)\n",
    "y_log = LR.predict(X)"
   ]
  },
  {
   "cell_type": "code",
   "execution_count": 17,
   "metadata": {},
   "outputs": [],
   "source": [
    "H_log = np.zeros(143)\n",
    "for i in range(0,142):\n",
    "    function = lookup[y_log[i]]\n",
    "    H_log[i] = function(df.bulk[i], df.shear[i], df.young[i], df.poisson[i])\n",
    "error_log = np.abs(df.Hexp - H_log)\n",
    "stddev_log = np.std(error_log)"
   ]
  },
  {
   "cell_type": "code",
   "execution_count": 18,
   "metadata": {},
   "outputs": [
    {
     "name": "stdout",
     "output_type": "stream",
     "text": [
      "Train set Accuracy =  0.34210526315789475\n",
      "Test set Accuracy  =  0.13793103448275862\n",
      "All set Accuracy   =  0.3006993006993007\n",
      "Mean abs error     =  3.5130817254272433\n",
      "Standard deviation =  4.371089877600043\n"
     ]
    }
   ],
   "source": [
    "from sklearn import metrics\n",
    "print(\"Train set Accuracy = \", metrics.accuracy_score(y_train, LR.predict(X_train)))\n",
    "print(\"Test set Accuracy  = \", metrics.accuracy_score(y_test, LR.predict(X_test)))\n",
    "print(\"All set Accuracy   = \", metrics.accuracy_score(y, LR.predict(X)))\n",
    "print(\"Mean abs error     = \", metrics.mean_absolute_error(df.Hexp, H_log))\n",
    "print('Standard deviation = ', stddev_log)"
   ]
  },
  {
   "cell_type": "markdown",
   "metadata": {},
   "source": [
    "# Support Vector Machine"
   ]
  },
  {
   "cell_type": "code",
   "execution_count": 19,
   "metadata": {},
   "outputs": [],
   "source": [
    "from sklearn import svm\n",
    "clf = svm.SVC(kernel='rbf',probability=True)\n",
    "clf.fit(X_train, y_train) \n",
    "yhat_3 = clf.predict(X_test)\n",
    "yhat_prob_3 = clf.predict_proba(X_test)\n",
    "y_svm = clf.predict(X)"
   ]
  },
  {
   "cell_type": "code",
   "execution_count": 20,
   "metadata": {},
   "outputs": [],
   "source": [
    "H_svm = np.zeros(143)\n",
    "for i in range(0,142):\n",
    "    function = lookup[y_svm[i]]\n",
    "    H_svm[i] = function(df.bulk[i], df.shear[i], df.young[i], df.poisson[i])\n",
    "error_svm = np.abs(df.Hexp - H_svm)\n",
    "stddev_svm = np.std(error_svm)"
   ]
  },
  {
   "cell_type": "code",
   "execution_count": 21,
   "metadata": {},
   "outputs": [
    {
     "name": "stdout",
     "output_type": "stream",
     "text": [
      "Train set Accuracy =  0.37719298245614036\n",
      "Test set Accuracy  =  0.13793103448275862\n",
      "All set Accuracy   =  0.32867132867132864\n",
      "Mean abs error     =  2.9387478488406145\n",
      "Standard deviation =  3.242363624793628\n"
     ]
    }
   ],
   "source": [
    "from sklearn import metrics\n",
    "print(\"Train set Accuracy = \", metrics.accuracy_score(y_train, clf.predict(X_train)))\n",
    "print(\"Test set Accuracy  = \", metrics.accuracy_score(y_test, clf.predict(X_test)))\n",
    "print(\"All set Accuracy   = \", metrics.accuracy_score(y, clf.predict(X)))\n",
    "print(\"Mean abs error     = \", metrics.mean_absolute_error(df.Hexp, H_svm))\n",
    "print('Standard deviation = ', stddev_svm)"
   ]
  },
  {
   "cell_type": "markdown",
   "metadata": {},
   "source": [
    "# Random Forest Classifier"
   ]
  },
  {
   "cell_type": "code",
   "execution_count": 22,
   "metadata": {},
   "outputs": [],
   "source": [
    "from sklearn.ensemble import RandomForestClassifier\n",
    "rfc = RandomForestClassifier(max_depth=2, random_state=0)\n",
    "rfc.fit(X_train, y_train) \n",
    "yhat_4 = rfc.predict(X_test)\n",
    "yhat_prob_4 = rfc.predict_proba(X_test)\n",
    "y_rfc = rfc.predict(X)"
   ]
  },
  {
   "cell_type": "code",
   "execution_count": 23,
   "metadata": {},
   "outputs": [],
   "source": [
    "H_rfc = np.zeros(143)\n",
    "for i in range(0,142):\n",
    "    function = lookup[y_rfc[i]]\n",
    "    H_rfc[i] = function(df.bulk[i], df.shear[i], df.young[i], df.poisson[i])\n",
    "error_rfc = np.abs(df.Hexp - H_rfc)\n",
    "stddev_rfc = np.std(error_rfc)"
   ]
  },
  {
   "cell_type": "code",
   "execution_count": 24,
   "metadata": {},
   "outputs": [
    {
     "name": "stdout",
     "output_type": "stream",
     "text": [
      "Train set Accuracy =  0.4824561403508772\n",
      "Test set Accuracy  =  0.13793103448275862\n",
      "All set Accuracy   =  0.4125874125874126\n",
      "Mean abs error     =  3.27617376351088\n",
      "Standard deviation =  4.259220998302396\n"
     ]
    }
   ],
   "source": [
    "from sklearn import metrics\n",
    "print(\"Train set Accuracy = \", metrics.accuracy_score(y_train, rfc.predict(X_train)))\n",
    "print(\"Test set Accuracy  = \", metrics.accuracy_score(y_test, rfc.predict(X_test)))\n",
    "print(\"All set Accuracy   = \", metrics.accuracy_score(y, rfc.predict(X)))\n",
    "print(\"Mean abs error     = \", metrics.mean_absolute_error(df.Hexp, H_rfc))\n",
    "print('Standard deviation = ', stddev_rfc)"
   ]
  },
  {
   "cell_type": "markdown",
   "metadata": {},
   "source": [
    "# AdaBoost Classifier"
   ]
  },
  {
   "cell_type": "code",
   "execution_count": 25,
   "metadata": {},
   "outputs": [],
   "source": [
    "from sklearn.ensemble import AdaBoostClassifier\n",
    "ada = AdaBoostClassifier(n_estimators=100, random_state=0)\n",
    "ada.fit(X_train, y_train) \n",
    "yhat_5 = ada.predict(X_test)\n",
    "yhat_prob_5 = ada.predict_proba(X_test)\n",
    "y_ada = ada.predict(X)"
   ]
  },
  {
   "cell_type": "code",
   "execution_count": 26,
   "metadata": {},
   "outputs": [],
   "source": [
    "H_ada = np.zeros(143)\n",
    "for i in range(0,142):\n",
    "    function = lookup[y_ada[i]]\n",
    "    H_ada[i] = function(df.bulk[i], df.shear[i], df.young[i], df.poisson[i])\n",
    "error_ada = np.abs(df.Hexp - H_ada)\n",
    "stddev_ada = np.std(error_ada)"
   ]
  },
  {
   "cell_type": "code",
   "execution_count": 27,
   "metadata": {},
   "outputs": [
    {
     "name": "stdout",
     "output_type": "stream",
     "text": [
      "Train set Accuracy =  0.3333333333333333\n",
      "Test set Accuracy  =  0.06896551724137931\n",
      "All set Accuracy   =  0.27972027972027974\n",
      "Mean abs error     =  3.8503490932398052\n",
      "Standard deviation =  3.988745573948525\n"
     ]
    }
   ],
   "source": [
    "from sklearn import metrics\n",
    "print(\"Train set Accuracy = \", metrics.accuracy_score(y_train, ada.predict(X_train)))\n",
    "print(\"Test set Accuracy  = \", metrics.accuracy_score(y_test, ada.predict(X_test)))\n",
    "print(\"All set Accuracy   = \", metrics.accuracy_score(y, ada.predict(X)))\n",
    "print(\"Mean abs error     = \", metrics.mean_absolute_error(df.Hexp, H_ada))\n",
    "print('Standard deviation = ', stddev_ada)"
   ]
  },
  {
   "cell_type": "markdown",
   "metadata": {},
   "source": [
    "# Gradient Boosting Classifier"
   ]
  },
  {
   "cell_type": "code",
   "execution_count": 28,
   "metadata": {},
   "outputs": [],
   "source": [
    "from sklearn.ensemble import GradientBoostingClassifier\n",
    "gbc = GradientBoostingClassifier(n_estimators=100, learning_rate=0.6, max_depth=1, random_state=0)\n",
    "gbc.fit(X_train, y_train) \n",
    "yhat_6 = gbc.predict(X_test)\n",
    "yhat_prob_6 = gbc.predict_proba(X_test)\n",
    "y_gbc = gbc.predict(X)"
   ]
  },
  {
   "cell_type": "code",
   "execution_count": 29,
   "metadata": {},
   "outputs": [],
   "source": [
    "H_gbc = np.zeros(143)\n",
    "for i in range(0,142):\n",
    "    function = lookup[y_gbc[i]]\n",
    "    H_gbc[i] = function(df.bulk[i], df.shear[i], df.young[i], df.poisson[i])\n",
    "error_gbc = np.abs(df.Hexp - H_gbc)\n",
    "stddev_gbc = np.std(error_gbc)"
   ]
  },
  {
   "cell_type": "code",
   "execution_count": 30,
   "metadata": {},
   "outputs": [
    {
     "name": "stdout",
     "output_type": "stream",
     "text": [
      "Train set Accuracy =  0.9824561403508771\n",
      "Test set Accuracy  =  0.3103448275862069\n",
      "All set Accuracy   =  0.8461538461538461\n",
      "Mean abs error     =  1.408350018292684\n",
      "Standard deviation =  1.9339591213974707\n"
     ]
    }
   ],
   "source": [
    "from sklearn import metrics\n",
    "print(\"Train set Accuracy = \", metrics.accuracy_score(y_train, gbc.predict(X_train)))\n",
    "print(\"Test set Accuracy  = \", metrics.accuracy_score(y_test, gbc.predict(X_test)))\n",
    "print(\"All set Accuracy   = \", metrics.accuracy_score(y, gbc.predict(X)))\n",
    "print(\"Mean abs error     = \", metrics.mean_absolute_error(df.Hexp, H_gbc))\n",
    "print('Standard deviation = ', stddev_gbc)"
   ]
  },
  {
   "cell_type": "markdown",
   "metadata": {},
   "source": [
    "# Comparision Metrics"
   ]
  },
  {
   "cell_type": "code",
   "execution_count": 31,
   "metadata": {},
   "outputs": [],
   "source": [
    "maerror = np.zeros(7)\n",
    "acscore = np.zeros(7)\n",
    "jaccard = np.zeros(7)\n",
    "f1score = np.zeros(7)\n",
    "logloss = np.zeros(7)\n",
    "stddev  = np.zeros(7)"
   ]
  },
  {
   "cell_type": "code",
   "execution_count": 32,
   "metadata": {},
   "outputs": [],
   "source": [
    "from sklearn import metrics\n",
    "maerror[0] = metrics.mean_absolute_error(df.Hexp, H_knn)\n",
    "maerror[1] = metrics.mean_absolute_error(df.Hexp, H_tree)\n",
    "maerror[2] = metrics.mean_absolute_error(df.Hexp, H_log)\n",
    "maerror[3] = metrics.mean_absolute_error(df.Hexp, H_svm)\n",
    "maerror[4] = metrics.mean_absolute_error(df.Hexp, H_rfc)\n",
    "maerror[5] = metrics.mean_absolute_error(df.Hexp, H_ada)\n",
    "maerror[6] = metrics.mean_absolute_error(df.Hexp, H_gbc)"
   ]
  },
  {
   "cell_type": "code",
   "execution_count": 33,
   "metadata": {},
   "outputs": [],
   "source": [
    "mean_knn  = np.abs(df.Hexp - H_knn)\n",
    "mean_tree = np.abs(df.Hexp - H_tree)\n",
    "mean_log  = np.abs(df.Hexp - H_log)\n",
    "mean_svm  = np.abs(df.Hexp - H_svm)\n",
    "mean_rfc  = np.abs(df.Hexp - H_rfc)\n",
    "mean_ada  = np.abs(df.Hexp - H_ada)\n",
    "mean_gbc  = np.abs(df.Hexp - H_gbc)"
   ]
  },
  {
   "cell_type": "code",
   "execution_count": 34,
   "metadata": {},
   "outputs": [],
   "source": [
    "stddev[0] = np.std(mean_knn)\n",
    "stddev[1] = np.std(mean_tree)\n",
    "stddev[2] = np.std(mean_log)\n",
    "stddev[3] = np.std(mean_svm)\n",
    "stddev[4] = np.std(mean_rfc)\n",
    "stddev[5] = np.std(mean_ada)\n",
    "stddev[6] = np.std(mean_gbc)"
   ]
  },
  {
   "cell_type": "code",
   "execution_count": 35,
   "metadata": {},
   "outputs": [],
   "source": [
    "from sklearn import metrics\n",
    "acscore[0] = metrics.accuracy_score(y_test, yhat_0)\n",
    "acscore[1] = metrics.accuracy_score(y_test, yhat_1)\n",
    "acscore[2] = metrics.accuracy_score(y_test, yhat_2)\n",
    "acscore[3] = metrics.accuracy_score(y_test, yhat_3)\n",
    "acscore[4] = metrics.accuracy_score(y_test, yhat_4)\n",
    "acscore[5] = metrics.accuracy_score(y_test, yhat_5)\n",
    "acscore[6] = metrics.accuracy_score(y_test, yhat_6)"
   ]
  },
  {
   "cell_type": "code",
   "execution_count": 36,
   "metadata": {},
   "outputs": [],
   "source": [
    "from sklearn.metrics import jaccard_score\n",
    "jaccard[0] = jaccard_score(y_test, yhat_0, average='micro')\n",
    "jaccard[1] = jaccard_score(y_test, yhat_1, average='micro')\n",
    "jaccard[2] = jaccard_score(y_test, yhat_2, average='micro')\n",
    "jaccard[3] = jaccard_score(y_test, yhat_3, average='micro')\n",
    "jaccard[4] = jaccard_score(y_test, yhat_4, average='micro')\n",
    "jaccard[5] = jaccard_score(y_test, yhat_5, average='micro')\n",
    "jaccard[6] = jaccard_score(y_test, yhat_6, average='micro')"
   ]
  },
  {
   "cell_type": "code",
   "execution_count": 37,
   "metadata": {},
   "outputs": [],
   "source": [
    "from sklearn.metrics import log_loss\n",
    "logloss[0] = log_loss(y_test, yhat_prob_0)\n",
    "logloss[1] = log_loss(y_test, yhat_prob_1)\n",
    "logloss[2] = log_loss(y_test, yhat_prob_2)\n",
    "logloss[3] = log_loss(y_test, yhat_prob_3)\n",
    "logloss[4] = log_loss(y_test, yhat_prob_4)\n",
    "logloss[5] = log_loss(y_test, yhat_prob_5)\n",
    "logloss[6] = log_loss(y_test, yhat_prob_6)"
   ]
  },
  {
   "cell_type": "code",
   "execution_count": 38,
   "metadata": {},
   "outputs": [],
   "source": [
    "from sklearn.metrics import f1_score\n",
    "f1score[0] = f1_score(y_test, yhat_0, average='weighted') \n",
    "f1score[1] = f1_score(y_test, yhat_1, average='weighted') \n",
    "f1score[2] = f1_score(y_test, yhat_2, average='weighted') \n",
    "f1score[3] = f1_score(y_test, yhat_3, average='weighted') \n",
    "f1score[4] = f1_score(y_test, yhat_4, average='weighted') \n",
    "f1score[5] = f1_score(y_test, yhat_5, average='weighted') \n",
    "f1score[6] = f1_score(y_test, yhat_6, average='weighted') "
   ]
  },
  {
   "cell_type": "code",
   "execution_count": 39,
   "metadata": {},
   "outputs": [
    {
     "name": "stdout",
     "output_type": "stream",
     "text": [
      "                       KNN  Tree  LR  SVM   RF  ADA  GBC\n",
      "Mean Absolu Error  =  [2.31 2.95 3.51 2.94 3.28 3.85 1.41]\n",
      "Standard deviation =  [2.85 3.67 4.37 3.24 4.26 3.99 1.93]\n"
     ]
    }
   ],
   "source": [
    "print('                       KNN  Tree  LR  SVM   RF  ADA  GBC')\n",
    "print('Mean Absolu Error  = ', maerror)\n",
    "print('Standard deviation = ', stddev)"
   ]
  },
  {
   "cell_type": "code",
   "execution_count": 40,
   "metadata": {},
   "outputs": [
    {
     "name": "stdout",
     "output_type": "stream",
     "text": [
      "                      KNN  Tree  LR  SVM   RF  ADA  GBC\n",
      "Test set Accuracy =  [0.21 0.28 0.14 0.14 0.14 0.07 0.31]\n",
      "Jaccard index     =  [0.12 0.16 0.07 0.07 0.07 0.04 0.18]\n",
      "f1-score          =  [0.18 0.23 0.1  0.04 0.1  0.08 0.28]\n",
      "Log loss          =  [20.62  2.92  1.78  1.83  1.79  1.71  2.49]\n"
     ]
    }
   ],
   "source": [
    "print('                      KNN  Tree  LR  SVM   RF  ADA  GBC')\n",
    "print('Test set Accuracy = ', acscore)\n",
    "print('Jaccard index     = ', jaccard)\n",
    "print('f1-score          = ', f1score)\n",
    "print('Log loss          = ', logloss)"
   ]
  },
  {
   "cell_type": "markdown",
   "metadata": {},
   "source": [
    "# Gradient Boosting Regressor"
   ]
  },
  {
   "cell_type": "code",
   "execution_count": 41,
   "metadata": {},
   "outputs": [],
   "source": [
    "X = df[['bulk','shear','young','poisson']] .values  #.astype(float)\n",
    "y = df['Hexp'].values"
   ]
  },
  {
   "cell_type": "code",
   "execution_count": 42,
   "metadata": {},
   "outputs": [],
   "source": [
    "from sklearn.ensemble import GradientBoostingRegressor\n",
    "from sklearn.model_selection import train_test_split\n",
    "X_train, X_test, y_train, y_test = train_test_split(X, y, random_state=0)"
   ]
  },
  {
   "cell_type": "code",
   "execution_count": 43,
   "metadata": {},
   "outputs": [
    {
     "data": {
      "text/plain": [
       "array([18.65,  2.95, 26.5 ,  9.21, 19.48, 29.63,  1.77,  8.09,  7.66,\n",
       "        7.96,  2.51, 31.36, 23.82,  3.59,  2.95, 23.27,  4.32,  2.44,\n",
       "        3.07, 23.36, 15.28,  5.63,  7.69, 26.61,  7.75, 27.75,  1.92,\n",
       "        1.95, 10.88, 30.64, 76.03, 24.09, 34.75, 28.61, 10.6 ,  6.08])"
      ]
     },
     "execution_count": 43,
     "metadata": {},
     "output_type": "execute_result"
    }
   ],
   "source": [
    "reg = GradientBoostingRegressor(random_state=0)\n",
    "reg.fit(X_train, y_train)\n",
    "H_gbr = reg.predict(X_test)\n",
    "H_gbr"
   ]
  },
  {
   "cell_type": "code",
   "execution_count": 44,
   "metadata": {},
   "outputs": [
    {
     "data": {
      "text/plain": [
       "array([15.2,  1.7, 30. , 10.7, 27. , 34. ,  2.2, 10.5, 14. ,  2.8,  4.5,\n",
       "       25.5, 33. ,  4. ,  4.4, 20. ,  5.8,  1.4,  1.5, 25.6,  9.3,  5.4,\n",
       "        9.5, 22.5,  9.4, 29. ,  2. ,  2.4, 15.2, 26.5, 76. , 22. , 50. ,\n",
       "       33. , 15.5,  5.5])"
      ]
     },
     "execution_count": 44,
     "metadata": {},
     "output_type": "execute_result"
    }
   ],
   "source": [
    "y_test"
   ]
  },
  {
   "cell_type": "code",
   "execution_count": 45,
   "metadata": {},
   "outputs": [
    {
     "name": "stdout",
     "output_type": "stream",
     "text": [
      "Mean Absolu Error  =  1.2833321096132309\n",
      "Standard deviation =  1.9397923260928762\n"
     ]
    }
   ],
   "source": [
    "H_gbr = reg.predict(X)\n",
    "MAE_gbr = metrics.mean_absolute_error(df.Hexp, H_gbr)\n",
    "error_gbr = np.abs(df.Hexp - H_gbr)\n",
    "stddev_gbr = np.std(error_gbr)\n",
    "print('Mean Absolu Error  = ', MAE_gbr)\n",
    "print('Standard deviation = ', stddev_gbr)"
   ]
  },
  {
   "cell_type": "markdown",
   "metadata": {},
   "source": [
    "# The best possible result"
   ]
  },
  {
   "cell_type": "code",
   "execution_count": 46,
   "metadata": {},
   "outputs": [
    {
     "data": {
      "text/plain": [
       "143"
      ]
     },
     "execution_count": 46,
     "metadata": {},
     "output_type": "execute_result"
    }
   ],
   "source": [
    "y_best = df['best'].values  #.astype(float)\n",
    "y_best.size"
   ]
  },
  {
   "cell_type": "code",
   "execution_count": 47,
   "metadata": {},
   "outputs": [],
   "source": [
    "Hbest = np.zeros(y_best.size)\n",
    "for i in range(0,y_best.size-1):\n",
    "    function = lookup[y_best[i]]\n",
    "    Hbest[i] = function(df.bulk[i], df.shear[i], df.young[i], df.poisson[i])"
   ]
  },
  {
   "cell_type": "code",
   "execution_count": 48,
   "metadata": {},
   "outputs": [
    {
     "name": "stdout",
     "output_type": "stream",
     "text": [
      "Mean Absolu Error  =  0.9880596612187439\n",
      "Standard deviation =  1.2001455791389157\n"
     ]
    }
   ],
   "source": [
    "from sklearn.metrics import mean_absolute_error\n",
    "MAE_best = mean_absolute_error(df.Hexp, Hbest)\n",
    "error_min = np.abs(df.Hexp - Hbest)\n",
    "stddev_best = np.std(error_min)\n",
    "print('Mean Absolu Error  = ', MAE_best)\n",
    "print('Standard deviation = ', stddev_best)"
   ]
  },
  {
   "cell_type": "markdown",
   "metadata": {},
   "source": [
    "# Classic calculator"
   ]
  },
  {
   "cell_type": "code",
   "execution_count": 49,
   "metadata": {},
   "outputs": [
    {
     "data": {
      "text/plain": [
       "Index(['No.', 'material', 'Formula', 'CrystalSystem', 'bulk', 'shear', 'young',\n",
       "       'poisson', 'Hexp', 'best', 'y_cs', 'y_gap', 'y_den', 'y_csbg',\n",
       "       'y_csden', 'y_bgden'],\n",
       "      dtype='object')"
      ]
     },
     "execution_count": 49,
     "metadata": {},
     "output_type": "execute_result"
    }
   ],
   "source": [
    "df.columns"
   ]
  },
  {
   "cell_type": "code",
   "execution_count": 50,
   "metadata": {},
   "outputs": [],
   "source": [
    "y_best = df['best'].values  #.astype(float)\n",
    "y_cs = df['y_cs'].values  #.astype(float)\n",
    "y_gap = df['y_gap'].values  #.astype(float)\n",
    "y_den = df['y_den'].values  #.astype(float)\n",
    "y_csbg = df['y_csbg'].values  #.astype(float)\n",
    "y_csden = df['y_csden'].values  #.astype(float)\n",
    "y_bgden = df['y_bgden'].values  #.astype(float)"
   ]
  },
  {
   "cell_type": "code",
   "execution_count": 51,
   "metadata": {},
   "outputs": [],
   "source": [
    "H_best = np.zeros(y_best.size)\n",
    "H_cs = np.zeros(y_best.size)\n",
    "H_gap = np.zeros(y_best.size)\n",
    "H_den = np.zeros(y_best.size)\n",
    "H_csbg = np.zeros(y_best.size)\n",
    "H_csden = np.zeros(y_best.size)\n",
    "H_bgden = np.zeros(y_best.size)"
   ]
  },
  {
   "cell_type": "code",
   "execution_count": 52,
   "metadata": {},
   "outputs": [],
   "source": [
    "for i in range(0,y_best.size-1):\n",
    "    function = lookup[y_best[i]]\n",
    "    H_best[i] = function(df.bulk[i], df.shear[i], df.young[i], df.poisson[i])\n",
    "    function = lookup[y_cs[i]]\n",
    "    H_cs[i] = function(df.bulk[i], df.shear[i], df.young[i], df.poisson[i])\n",
    "    function = lookup[y_gap[i]]\n",
    "    H_gap[i] = function(df.bulk[i], df.shear[i], df.young[i], df.poisson[i])\n",
    "    function = lookup[y_den[i]]\n",
    "    H_den[i] = function(df.bulk[i], df.shear[i], df.young[i], df.poisson[i])\n",
    "    function = lookup[y_csbg[i]]\n",
    "    H_csbg[i] = function(df.bulk[i], df.shear[i], df.young[i], df.poisson[i])\n",
    "    function = lookup[y_csden[i]]\n",
    "    H_csden[i] = function(df.bulk[i], df.shear[i], df.young[i], df.poisson[i])\n",
    "    function = lookup[y_bgden[i]]\n",
    "    H_bgden[i] = function(df.bulk[i], df.shear[i], df.young[i], df.poisson[i])    "
   ]
  },
  {
   "cell_type": "code",
   "execution_count": 53,
   "metadata": {},
   "outputs": [],
   "source": [
    "from sklearn.metrics import mean_absolute_error\n",
    "MAE_best = mean_absolute_error(df.Hexp, H_best)\n",
    "MAE_cs = mean_absolute_error(df.Hexp, H_cs)\n",
    "MAE_gap = mean_absolute_error(df.Hexp, H_gap)\n",
    "MAE_den = mean_absolute_error(df.Hexp, H_den)\n",
    "MAE_csbg = mean_absolute_error(df.Hexp, H_csbg)\n",
    "MAE_csden = mean_absolute_error(df.Hexp, H_csden)\n",
    "MAE_bgden = mean_absolute_error(df.Hexp, H_bgden)"
   ]
  },
  {
   "cell_type": "code",
   "execution_count": 54,
   "metadata": {},
   "outputs": [],
   "source": [
    "error_min_best = np.abs(df.Hexp - H_best)\n",
    "error_min_cs = np.abs(df.Hexp - H_cs)\n",
    "error_min_gap = np.abs(df.Hexp - H_gap)\n",
    "error_min_den = np.abs(df.Hexp - H_den)\n",
    "error_min_csbg = np.abs(df.Hexp - H_csbg)\n",
    "error_min_csden = np.abs(df.Hexp - H_csden)\n",
    "error_min_bgden = np.abs(df.Hexp - H_bgden)"
   ]
  },
  {
   "cell_type": "code",
   "execution_count": 55,
   "metadata": {},
   "outputs": [],
   "source": [
    "stddev_best = np.std(error_min_best)\n",
    "stddev_cs = np.std(error_min_cs)\n",
    "stddev_gap = np.std(error_min_gap)\n",
    "stddev_den = np.std(error_min_den)\n",
    "stddev_csbg = np.std(error_min_csbg)\n",
    "stddev_csden = np.std(error_min_csden)\n",
    "stddev_bgden = np.std(error_min_bgden)"
   ]
  },
  {
   "cell_type": "code",
   "execution_count": 56,
   "metadata": {},
   "outputs": [
    {
     "name": "stdout",
     "output_type": "stream",
     "text": [
      "MAE Best possible result =  0.9880596612187439\n",
      "MAE Crystal System       =  2.9735907485939523\n",
      "MAE Bandgap              =  3.000140543737141\n",
      "MAE Density              =  2.6126027736967727\n",
      "MAE Csys and bandgap     =  2.331991083770398\n",
      "MAE Csys and density     =  2.217002786988021\n",
      "MAE bandgap and density  =  2.500238697131566\n"
     ]
    }
   ],
   "source": [
    "print('MAE Best possible result = ', MAE_best)\n",
    "print('MAE Crystal System       = ', MAE_cs)\n",
    "print('MAE Bandgap              = ', MAE_gap)\n",
    "print('MAE Density              = ', MAE_den)\n",
    "print('MAE Csys and bandgap     = ', MAE_csbg)\n",
    "print('MAE Csys and density     = ', MAE_csden)\n",
    "print('MAE bandgap and density  = ', MAE_bgden)"
   ]
  },
  {
   "cell_type": "code",
   "execution_count": 57,
   "metadata": {},
   "outputs": [
    {
     "name": "stdout",
     "output_type": "stream",
     "text": [
      "Standard deviation best  =  1.2001455791389157\n",
      "Standard deviation csys  =  3.1664893325442116\n",
      "Standard deviation gap   =  3.657749000924076\n",
      "Standard deviation den   =  2.697416086163109\n",
      "Standard deviation csbg  =  2.687354660794713\n",
      "Standard deviation csden =  2.20795341359557\n",
      "Standard deviation bgden =  2.887459429188358\n"
     ]
    }
   ],
   "source": [
    "print('Standard deviation best  = ', stddev_best)\n",
    "print('Standard deviation csys  = ', stddev_cs)\n",
    "print('Standard deviation gap   = ', stddev_gap)\n",
    "print('Standard deviation den   = ', stddev_den)\n",
    "print('Standard deviation csbg  = ', stddev_csbg)\n",
    "print('Standard deviation csden = ', stddev_csden)\n",
    "print('Standard deviation bgden = ', stddev_bgden)"
   ]
  },
  {
   "cell_type": "code",
   "execution_count": 58,
   "metadata": {},
   "outputs": [],
   "source": [
    "from sklearn import metrics\n",
    "acscore_best = metrics.accuracy_score(y_best, y_best)\n",
    "acscore_cs = metrics.accuracy_score(y_best, y_cs)\n",
    "acscore_gap = metrics.accuracy_score(y_best, y_gap)\n",
    "acscore_den = metrics.accuracy_score(y_best, y_den)\n",
    "acscore_csbg = metrics.accuracy_score(y_best, y_csbg)\n",
    "acscore_csden = metrics.accuracy_score(y_best, y_csden)\n",
    "acscore_bgden = metrics.accuracy_score(y_best, y_bgden)"
   ]
  },
  {
   "cell_type": "code",
   "execution_count": 59,
   "metadata": {},
   "outputs": [
    {
     "name": "stdout",
     "output_type": "stream",
     "text": [
      "Accuracy best  =  1.0\n",
      "Accuracy csys  =  0.23076923076923078\n",
      "Accuracy gap   =  0.24475524475524477\n",
      "Accuracy den   =  0.3076923076923077\n",
      "Accuracy csbg  =  0.34265734265734266\n",
      "Accuracy csden =  0.34265734265734266\n",
      "Accuracy bgden =  0.35664335664335667\n"
     ]
    }
   ],
   "source": [
    "print('Accuracy best  = ', acscore_best)\n",
    "print('Accuracy csys  = ', acscore_cs)\n",
    "print('Accuracy gap   = ', acscore_gap)\n",
    "print('Accuracy den   = ', acscore_den)\n",
    "print('Accuracy csbg  = ', acscore_csbg)\n",
    "print('Accuracy csden = ', acscore_csden)\n",
    "print('Accuracy bgden = ', acscore_bgden)"
   ]
  },
  {
   "cell_type": "code",
   "execution_count": null,
   "metadata": {},
   "outputs": [],
   "source": []
  },
  {
   "cell_type": "code",
   "execution_count": null,
   "metadata": {},
   "outputs": [],
   "source": []
  },
  {
   "cell_type": "code",
   "execution_count": null,
   "metadata": {},
   "outputs": [],
   "source": []
  },
  {
   "cell_type": "code",
   "execution_count": null,
   "metadata": {},
   "outputs": [],
   "source": []
  }
 ],
 "metadata": {
  "kernelspec": {
   "display_name": "Python 3",
   "language": "python",
   "name": "python3"
  },
  "language_info": {
   "codemirror_mode": {
    "name": "ipython",
    "version": 3
   },
   "file_extension": ".py",
   "mimetype": "text/x-python",
   "name": "python",
   "nbconvert_exporter": "python",
   "pygments_lexer": "ipython3",
   "version": "3.8.5"
  }
 },
 "nbformat": 4,
 "nbformat_minor": 4
}
